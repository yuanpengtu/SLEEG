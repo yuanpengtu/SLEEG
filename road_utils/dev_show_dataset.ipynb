{
 "cells": [
  {
   "cell_type": "code",
   "execution_count": null,
   "metadata": {},
   "outputs": [],
   "source": [
    "%load_ext autoreload\n",
    "%autoreload 2\n",
    "%matplotlib inline"
   ]
  },
  {
   "cell_type": "code",
   "execution_count": null,
   "metadata": {},
   "outputs": [],
   "source": [
    "import numpy as np\n",
    "from road_anomaly_benchmark.jupyter_show_image import show\n",
    "from road_anomaly_benchmark.datasets import DatasetRegistry"
   ]
  },
  {
   "cell_type": "code",
   "execution_count": null,
   "metadata": {},
   "outputs": [],
   "source": [
    "DatasetRegistry.list_available_dsets()"
   ]
  },
  {
   "cell_type": "code",
   "execution_count": null,
   "metadata": {},
   "outputs": [],
   "source": [
    "dset = DatasetRegistry.get('ObstacleTrack-test')\n",
    "print(f'{dset.cfg.name}: {dset.__len__()} frames')\n",
    "\n",
    "fr = dset[20]\n",
    "\n",
    "show(fr.image)\n",
    "\n",
    "if 'label_pixel_gt' in fr:\n",
    "\tshow([fr.label_pixel_gt==0, fr.label_pixel_gt==1, fr.label_pixel_gt==255])\n"
   ]
  }
 ],
 "metadata": {
  "kernelspec": {
   "display_name": "Python 3",
   "language": "python",
   "name": "python3"
  },
  "language_info": {
   "codemirror_mode": {
    "name": "ipython",
    "version": 3
   },
   "file_extension": ".py",
   "mimetype": "text/x-python",
   "name": "python",
   "nbconvert_exporter": "python",
   "pygments_lexer": "ipython3",
   "version": "3.8.2"
  }
 },
 "nbformat": 4,
 "nbformat_minor": 4
}
